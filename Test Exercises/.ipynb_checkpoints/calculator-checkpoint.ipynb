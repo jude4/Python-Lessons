{
 "cells": [
  {
   "cell_type": "code",
   "execution_count": 3,
   "metadata": {},
   "outputs": [
    {
     "name": "stdout",
     "output_type": "stream",
     "text": [
      "Please kindly enter the type of operation you want to make: hints (*,/,-,+)+\n",
      "3\n",
      "4\n",
      "5\n",
      "6\n",
      "end\n",
      "False\n"
     ]
    }
   ],
   "source": [
    "# Simple Calculator\n",
    "\n",
    "import math\n",
    "\n",
    "class Calculator:\n",
    "    def __init__(self, value) -> None:\n",
    "        self.value = value\n",
    "\n",
    "    def addition(self):\n",
    "        if (self.value):\n",
    "            print(value)\n",
    "        # return self.a + self.b\n",
    "    \n",
    "    def subtraction(self):\n",
    "        return self.a - self.b\n",
    "    \n",
    "\n",
    "# Enter the type of operation you want to calculate\n",
    "\n",
    "list_of_operation = set(['*', '+', '-', '/'])\n",
    "\n",
    "operation = set([input('Please kindly enter the type of operation you want to make: hints (*,/,-,+)')])\n",
    "\n",
    "while operation.isdisjoint(list_of_operation):\n",
    "    operation = set([input('Sorry this operation does not exist. \\n Please kindly enter a valid the type of operation you want to make: hints (*,/,-,+)')])\n",
    "\n",
    "if(operation.issubset(list_of_operation)):\n",
    "\n",
    "    value = []\n",
    "\n",
    "    while(True):\n",
    "        \n",
    "        x = (input())\n",
    "\n",
    "        if x.isnumeric() or x == 'end':\n",
    "            if x == 'end':\n",
    "\n",
    "                break\n",
    "\n",
    "            value.append(x)\n",
    "\n",
    "        else:\n",
    "            print('The value you entered is not a numeric number')\n",
    "            break\n",
    "\n",
    "    # print(isinstance(value, list))\n",
    "\n",
    "\n",
    "    print(isinstance(value, tuple))\n",
    "\n",
    "    # if isinstance(value, list):\n",
    "    #     print('true')\n",
    "    # else:\n",
    "    #     print('false')\n",
    "    # (a, b) = (int(input()), int(input()))\n",
    "\n",
    "    # calculator = Calculator(value)\n",
    "\n",
    "    # if ('+' in operation):\n",
    "    #     print('Addtion : ', calculator.addition())\n",
    "    #     exit\n",
    "    # elif ('-' in operation):\n",
    "    #     print('Subtraction : ', calculator.subtraction())\n",
    "else:\n",
    "    print('Sorry this operation does not exist.')\n",
    "    \n",
    "\n",
    "\n",
    "\n",
    "\n",
    "\n"
   ]
  },
  {
   "cell_type": "code",
   "execution_count": null,
   "metadata": {},
   "outputs": [],
   "source": []
  },
  {
   "cell_type": "code",
   "execution_count": null,
   "metadata": {},
   "outputs": [],
   "source": []
  }
 ],
 "metadata": {
  "kernelspec": {
   "display_name": "Python 3 (ipykernel)",
   "language": "python",
   "name": "python3"
  },
  "language_info": {
   "codemirror_mode": {
    "name": "ipython",
    "version": 3
   },
   "file_extension": ".py",
   "mimetype": "text/x-python",
   "name": "python",
   "nbconvert_exporter": "python",
   "pygments_lexer": "ipython3",
   "version": "3.11.5"
  }
 },
 "nbformat": 4,
 "nbformat_minor": 2
}
