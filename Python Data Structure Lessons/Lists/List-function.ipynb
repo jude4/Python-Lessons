{
 "cells": [
  {
   "cell_type": "code",
   "execution_count": null,
   "metadata": {},
   "outputs": [],
   "source": [
    "#  Lists Functions:\n",
    "# Lists support the following functions:\n",
    "#  append(item) adds an item to the end of the list.\n",
    "#  insert(index, item) adds an item at the given index in the list.\n",
    "#  remove(item) removes an item from the list.\n",
    "#  pop(index) removes the item at the given inde.\n",
    "# count(item) returns a count of how many items an item occurs in the lists."
   ]
  },
  {
   "cell_type": "code",
   "execution_count": 1,
   "id": "9c8c97d9",
   "metadata": {},
   "outputs": [
    {
     "name": "stdout",
     "output_type": "stream",
     "text": [
      "[2, 4, 6, 8]\n",
      "[2, 6, 8]\n",
      "[8, 2, 6, 8]\n"
     ]
    }
   ],
   "source": [
    "# Example\n",
    "\n",
    "x = [2, 4, 6]\n",
    "\n",
    "x.append(8)\n",
    "\n",
    "print(x) # x = [2, 4, 6, 8]\n",
    "\n",
    "x.remove(4)\n",
    "\n",
    "print(x) # x = [2, 6, 8]\n",
    "\n",
    "x.insert(0, 8)\n",
    "\n",
    "print(x)  # x = [8, 2, 6, 8]"
   ]
  },
  {
   "cell_type": "code",
   "execution_count": 5,
   "id": "1bff08e3",
   "metadata": {},
   "outputs": [
    {
     "name": "stdout",
     "output_type": "stream",
     "text": [
      "[3, 1, 2, 5, 3, 1, 8]\n",
      "[3, 1, 6, 2, 5, 3, 1, 8]\n",
      "[3, 1, 6, 2, 5, 3, 1]\n",
      "7\n"
     ]
    }
   ],
   "source": [
    "# Exercise\n",
    "\n",
    "x = [3, 1, 2, 5, 3, 1]\n",
    "\n",
    "x.append(8) \n",
    "\n",
    "print(x) # x = [3, 1, 2, 5, 3, 1, 8]\n",
    "\n",
    "x.insert(2, 6)\n",
    "\n",
    "print(x)  # x = [3, 1, 6, 2, 5, 3, 1, 8]\n",
    "\n",
    "x.remove(8) \n",
    "\n",
    "print(x)  # x = [3, 1, 6, 5, 3, 1, 8]\n",
    "\n",
    "print(len(x)) # 7"
   ]
  },
  {
   "cell_type": "code",
   "execution_count": null,
   "id": "47dbb1e5",
   "metadata": {},
   "outputs": [],
   "source": [
    "# reverse() reverses items in the list.\n",
    "# sort() sorts the list. By default, the list is sorted ascending. You can specify the reverse = True as the parameter, to sort descending.\n",
    "# max(list) returns the maximum value.\n",
    "# min(list) returns the minimum value"
   ]
  },
  {
   "cell_type": "code",
   "execution_count": 6,
   "id": "b564c61e",
   "metadata": {},
   "outputs": [
    {
     "name": "stdout",
     "output_type": "stream",
     "text": [
      "[8, 6, 4, 2]\n",
      "[2, 4, 6, 8]\n",
      "2\n",
      "8\n"
     ]
    }
   ],
   "source": [
    "# Example\n",
    "x = [2, 4, 6, 8]\n",
    "x.reverse()\n",
    "\n",
    "print(x) # x = [8, 6, 4, 2]\n",
    "\n",
    "x.sort()\n",
    "print(x) # x = [2, 4, 6, 8]\n",
    "\n",
    "print(min(x)) # x = [2]\n",
    "print(max(x)) # x = [8]"
   ]
  },
  {
   "cell_type": "code",
   "execution_count": 9,
   "id": "19cfd900",
   "metadata": {},
   "outputs": [
    {
     "name": "stdout",
     "output_type": "stream",
     "text": [
      "6\n"
     ]
    }
   ],
   "source": [
    "# Exercise\n",
    "import math\n",
    "\n",
    "prices = [125000, 78000, 110000, 65000, 300000, 250000, 210000, 150000, 165000, 230000, 225000, 100000, 300000]\n",
    "\n",
    "length = len(prices)\n",
    "\n",
    "total = sum(prices)\n",
    "\n",
    "avg = math.ceil(total/length)\n",
    "\n",
    "count = 0\n",
    "for x in range(len(prices)):\n",
    "    if avg < prices[x]:\n",
    "        count += 1\n",
    "print(count)"
   ]
  },
  {
   "cell_type": "code",
   "execution_count": 11,
   "id": "419dfe7e",
   "metadata": {},
   "outputs": [
    {
     "name": "stdout",
     "output_type": "stream",
     "text": [
      "[4, 5, 8, 11, 20, 42]\n",
      "42\n",
      "4\n",
      "46\n"
     ]
    }
   ],
   "source": [
    "# Exercise\n",
    "x = [8, 5, 42, 11, 20, 4]\n",
    "x.sort()\n",
    "print(x) # x = [4, 5, 8, 11, 20, 42]\n",
    "print(max(x)) # x = 42\n",
    "print(min(x)) # x = 4\n",
    "print(max(x) - min(x) + x[2]) # 42 - 4 + 8 = -4"
   ]
  },
  {
   "cell_type": "code",
   "execution_count": null,
   "id": "f4757006",
   "metadata": {},
   "outputs": [],
   "source": [
    "# List Comprehensions\n",
    "# list comprehensions are a useful way quickly creating lists whose contents obey a rule for example, we can do the follwoing:"
   ]
  },
  {
   "cell_type": "code",
   "execution_count": 12,
   "id": "cde3d5a7",
   "metadata": {},
   "outputs": [
    {
     "name": "stdout",
     "output_type": "stream",
     "text": [
      "[0, 1, 8, 27, 64]\n"
     ]
    }
   ],
   "source": [
    "# Example\n",
    "\n",
    "# a list comprehensions\n",
    "cubes = [i**3 for i in range(5)]\n",
    "\n",
    "print(cubes) # 0, 1, 8, 27, 64 "
   ]
  },
  {
   "cell_type": "code",
   "execution_count": 13,
   "id": "94624a6a",
   "metadata": {},
   "outputs": [
    {
     "name": "stdout",
     "output_type": "stream",
     "text": [
      "[0, 2, 4, 6, 8, 10, 12, 14, 16, 18]\n"
     ]
    }
   ],
   "source": [
    "# Exercise\n",
    "num = [i*2 for i in range(10)]\n",
    "\n",
    "print(num) # [0, 2, 4, 6, 8, 10, 12, 14, 16, 18]"
   ]
  },
  {
   "cell_type": "code",
   "execution_count": null,
   "id": "46fb9c42",
   "metadata": {},
   "outputs": [],
   "source": [
    "# a list comprehension can also contain an if statement to enforce a condition on values in the list"
   ]
  },
  {
   "cell_type": "code",
   "execution_count": 14,
   "id": "7c2fefa2",
   "metadata": {},
   "outputs": [
    {
     "name": "stdout",
     "output_type": "stream",
     "text": [
      "[0, 4, 16, 36, 64]\n"
     ]
    }
   ],
   "source": [
    "# Example\n",
    "evens = [i**2 for i in range(10) if i**2 % 2 == 0]\n",
    "\n",
    "print(evens) # [0, 4, 36, 64]"
   ]
  },
  {
   "cell_type": "code",
   "execution_count": 39,
   "id": "68bbeaf3",
   "metadata": {},
   "outputs": [
    {
     "name": "stdout",
     "output_type": "stream",
     "text": [
      "[2, 4, 8, 16, 32, 64, 128, 256, 512, 1024, 2048, 4096]\n"
     ]
    }
   ],
   "source": [
    "# Exercise\n",
    "\n",
    "N = int(input())\n",
    "# store the lists\n",
    "lists = [1, 2, 3, 4, 5, 6, 7, 8, 9, 10, 11, 12]\n",
    "# get the initial number of insects as input\n",
    "# loop through the months base on the number of N months\n",
    "totalInsects = [N*(2**i) for i in range(len(lists))]\n",
    "\n",
    "print(totalInsects)\n",
    "\n"
   ]
  },
  {
   "cell_type": "code",
   "execution_count": null,
   "id": "60de2ee4",
   "metadata": {},
   "outputs": [],
   "source": [
    "# A list comprehension can also contain an if statement to enforce a condition on values in the list\n"
   ]
  },
  {
   "cell_type": "code",
   "execution_count": 40,
   "id": "74f0eb2c",
   "metadata": {},
   "outputs": [
    {
     "name": "stdout",
     "output_type": "stream",
     "text": [
      "[0, 4, 16, 36, 64]\n"
     ]
    }
   ],
   "source": [
    "# Exercise\n",
    "\n",
    "evens = [i**2 for i in range(10) if i**2 % 2 == 0]\n",
    "\n",
    "print(evens) # [0, 4, 16, 36, 64]"
   ]
  },
  {
   "cell_type": "code",
   "execution_count": 46,
   "id": "168dc991",
   "metadata": {},
   "outputs": [
    {
     "name": "stdout",
     "output_type": "stream",
     "text": [
      "[0, 3, 6, 9, 12, 15, 18]\n"
     ]
    }
   ],
   "source": [
    "# Exercise\n",
    "\n",
    "a = [i for i in range(20) if i % 3 == 0]\n",
    "\n",
    "print(a)\n"
   ]
  },
  {
   "cell_type": "code",
   "execution_count": 49,
   "id": "0e75577e",
   "metadata": {},
   "outputs": [
    {
     "name": "stdout",
     "output_type": "stream",
     "text": [
      "42\n"
     ]
    }
   ],
   "source": [
    "# Exercise\n",
    "\n",
    "nums = (55, 44, 33, 22)\n",
    "\n",
    "print(max( min( nums[:2] ), abs( -42 ) )) # min(nums[:2]) means the minimum of the first two elements in the list"
   ]
  },
  {
   "cell_type": "code",
   "execution_count": 75,
   "id": "6ab6307d",
   "metadata": {},
   "outputs": [
    {
     "name": "stdout",
     "output_type": "stream",
     "text": [
      "4.0\n"
     ]
    }
   ],
   "source": [
    "sentence = input()\n",
    "count = 0\n",
    "\n",
    "for x in range(len(sentence)):\n",
    "    if sentence[x] != ' ':\n",
    "        count += 1\n",
    "\n",
    "\n",
    "list = sentence.split() # split() return the string split into list\n",
    "\n",
    "length = len(list)\n",
    "\n",
    "\n",
    "print(count / length)\n"
   ]
  }
 ],
 "metadata": {
  "kernelspec": {
   "display_name": "Python 3 (ipykernel)",
   "language": "python",
   "name": "python3"
  },
  "language_info": {
   "codemirror_mode": {
    "name": "ipython",
    "version": 3
   },
   "file_extension": ".py",
   "mimetype": "text/x-python",
   "name": "python",
   "nbconvert_exporter": "python",
   "pygments_lexer": "ipython3",
   "version": "3.11.5"
  }
 },
 "nbformat": 4,
 "nbformat_minor": 5
}
