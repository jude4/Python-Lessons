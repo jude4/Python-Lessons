{
 "cells": [
  {
   "cell_type": "code",
   "execution_count": 1,
   "metadata": {},
   "outputs": [],
   "source": [
    "# Dictionaries\n",
    "# We saw how lists allow us to store elements with their corresponding indices.\n",
    "# The indices in a list are automatically set. But what if we need to set our own index?\n",
    "\n",
    "# Dictionaries are another collection type and allow us to map arbitary keys to values.\n",
    "# Dictonaries can be indexed in the same way as lists, using square brackets containing keys."
   ]
  },
  {
   "cell_type": "code",
   "execution_count": 2,
   "metadata": {},
   "outputs": [
    {
     "name": "stdout",
     "output_type": "stream",
     "text": [
      "24\n",
      "42\n"
     ]
    }
   ],
   "source": [
    "# Example\n",
    "ages = {\n",
    "    \"Dave\": 24,\n",
    "    \"Mary\": 42,\n",
    "    \"John\": 58\n",
    "}\n",
    "\n",
    "print(ages[\"Dave\"])\n",
    "print(ages[\"Mary\"])\n"
   ]
  },
  {
   "cell_type": "code",
   "execution_count": 3,
   "metadata": {},
   "outputs": [],
   "source": [
    "# You can use strings, integers, booleans, and any other immutable type as dictionary keys. This means that you cannot use lists or dictionaries as keys."
   ]
  },
  {
   "cell_type": "code",
   "execution_count": 4,
   "metadata": {},
   "outputs": [
    {
     "ename": "TypeError",
     "evalue": "unhashable type: 'list'",
     "output_type": "error",
     "traceback": [
      "\u001b[1;31m---------------------------------------------------------------------------\u001b[0m",
      "\u001b[1;31mTypeError\u001b[0m                                 Traceback (most recent call last)",
      "Cell \u001b[1;32mIn[4], line 3\u001b[0m\n\u001b[0;32m      1\u001b[0m \u001b[39m# Example\u001b[39;00m\n\u001b[1;32m----> 3\u001b[0m bad_dict \u001b[39m=\u001b[39m {\n\u001b[0;32m      4\u001b[0m     [\u001b[39m1\u001b[39m, \u001b[39m2\u001b[39m, \u001b[39m3\u001b[39m]: \u001b[39m\"\u001b[39m\u001b[39mOne two three\u001b[39m\u001b[39m\"\u001b[39m\n\u001b[0;32m      5\u001b[0m }\n",
      "\u001b[1;31mTypeError\u001b[0m: unhashable type: 'list'"
     ]
    }
   ],
   "source": [
    "# Example\n",
    "\n",
    "bad_dict = {\n",
    "    [1, 2, 3]: \"One two three\"\n",
    "} # This is an example of a bad dictionaies"
   ]
  },
  {
   "cell_type": "code",
   "execution_count": null,
   "metadata": {},
   "outputs": [],
   "source": [
    "# To determine whether a key is in a dictionary, you can use in and not in, just as you can for a list."
   ]
  },
  {
   "cell_type": "code",
   "execution_count": null,
   "metadata": {},
   "outputs": [],
   "source": [
    "# Example\n",
    "nums = {\n",
    "    1: \"One\",\n",
    "    2: \"Two\",\n",
    "    3: \"Three\",\n",
    "}\n",
    "\n",
    "print(1 in nums) # True\n",
    "print(\"three\" in nums) # False\n",
    "print(4 not in nums) # True"
   ]
  },
  {
   "cell_type": "code",
   "execution_count": null,
   "metadata": {},
   "outputs": [],
   "source": [
    "# A useful dictionary function is get(). it does the same thi g as indexing, but if the key is not found in the dictionary it returns another specified value instead."
   ]
  },
  {
   "cell_type": "code",
   "execution_count": 5,
   "metadata": {},
   "outputs": [
    {
     "name": "stdout",
     "output_type": "stream",
     "text": [
      "david@test.com\n"
     ]
    }
   ],
   "source": [
    "# Exercise\n",
    "\n",
    "search = input()\n",
    "\n",
    "phonebook = {\n",
    "    \"David\": [\"123-321-88\", \"david@test.com\"],\n",
    "    \"James\": [\"241-879-093\",\"james@test.com\"],\n",
    "    \"Bob\": [\"987-004-322\", \"bob@test.com\"],\n",
    "    \"Amy\": [\"340-999-213\", \"a@test.com\"]\n",
    "}\n",
    "\n",
    "result = phonebook.get(search, 'not found')\n",
    "\n",
    "if result != 'not found':\n",
    "    print(result[1])\n",
    "else:\n",
    "    print('Not found')"
   ]
  }
 ],
 "metadata": {
  "kernelspec": {
   "display_name": "base",
   "language": "python",
   "name": "python3"
  },
  "language_info": {
   "codemirror_mode": {
    "name": "ipython",
    "version": 3
   },
   "file_extension": ".py",
   "mimetype": "text/x-python",
   "name": "python",
   "nbconvert_exporter": "python",
   "pygments_lexer": "ipython3",
   "version": "3.11.5"
  },
  "orig_nbformat": 4
 },
 "nbformat": 4,
 "nbformat_minor": 2
}
