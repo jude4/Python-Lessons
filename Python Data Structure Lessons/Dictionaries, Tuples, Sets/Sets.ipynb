{
 "cells": [
  {
   "cell_type": "code",
   "execution_count": null,
   "metadata": {},
   "outputs": [],
   "source": [
    "# Sets\n",
    "# sets are collections of undordered items that are unique.\n",
    "\n",
    "# They are created using curly braces, and, due to the way they're stored,\n",
    "# it's faster to check whether an item is part of a set using the in operator,\n",
    "# rather than part of a list."
   ]
  },
  {
   "cell_type": "code",
   "execution_count": 3,
   "metadata": {},
   "outputs": [
    {
     "name": "stdout",
     "output_type": "stream",
     "text": [
      "True\n"
     ]
    }
   ],
   "source": [
    "# Example\n",
    "num_set = {1, 2, 3, 4, 5}\n",
    "\n",
    "print(3 in num_set)"
   ]
  },
  {
   "cell_type": "code",
   "execution_count": null,
   "metadata": {},
   "outputs": [],
   "source": [
    "# Note\n",
    "\n",
    "# Sets cannot contain duplicate elements."
   ]
  },
  {
   "cell_type": "code",
   "execution_count": 4,
   "metadata": {},
   "outputs": [
    {
     "name": "stdout",
     "output_type": "stream",
     "text": [
      "1\n"
     ]
    }
   ],
   "source": [
    "# Exercise\n",
    "\n",
    "letters = ['a', 'b', 'c', 'd']\n",
    "\n",
    "if 'e' not in letters:\n",
    "    print(1)\n",
    "else:\n",
    "    print(2)\n",
    "\n",
    "# Answer = 1"
   ]
  },
  {
   "cell_type": "code",
   "execution_count": null,
   "metadata": {},
   "outputs": [],
   "source": [
    "# You cn use the add() functuon to add new items to the set, and remove() to delete a specific element."
   ]
  },
  {
   "cell_type": "code",
   "execution_count": 14,
   "metadata": {},
   "outputs": [
    {
     "name": "stdout",
     "output_type": "stream",
     "text": [
      "{1, 2, 3, 4, 5, 6}\n",
      "{1, 2, 3, 4, 5, 6, -7}\n",
      "{1, 2, 4, 5, 6, -7}\n"
     ]
    }
   ],
   "source": [
    "# Example\n",
    "nums = {1, 2, 1, 3, 1, 4, 5, 6}\n",
    "print(nums) # nums = {1, 2, 1, 3, 1, 4, 5, 6}\n",
    "nums.add(-7) # nums = {1, 2, 3, 4, 5, 6}\n",
    "print(nums) # nums = {1, 2, 1, 3, 1, 4, 5, 6}\n",
    "\n",
    "nums.remove(3)\n",
    "print(nums) # {1, 2, 1, 1, 4, 5, 6, -7}"
   ]
  },
  {
   "cell_type": "code",
   "execution_count": null,
   "metadata": {},
   "outputs": [],
   "source": [
    "# Note\n",
    "\n",
    "# Duplicate elements will automatically get removed from the set\n",
    "# If you try to add an element that already exist in the sets it won't be added to the set\n",
    "# Sets do not allow duplicate elements\n",
    "# Set also uses the update() function like so: my_set.update(['item1', 'item2'])"
   ]
  },
  {
   "cell_type": "code",
   "execution_count": 19,
   "metadata": {},
   "outputs": [
    {
     "name": "stdout",
     "output_type": "stream",
     "text": [
      "{'d', 'c', 'b', 'a'}\n",
      "{'z', 'd', 'b', 'a', 'c'}\n"
     ]
    }
   ],
   "source": [
    "# Exercise\n",
    "nums = {\n",
    "    'a', 'b', 'c', 'd'\n",
    "}\n",
    "\n",
    "print(nums)\n",
    "\n",
    "nums.add('z')\n",
    "\n",
    "print(nums) # nums = {'z', a, 'b', 'c', 'd'}"
   ]
  },
  {
   "cell_type": "code",
   "execution_count": null,
   "metadata": {},
   "outputs": [],
   "source": [
    "# Sets can be combined using mathematical operations\n",
    "# The union operator | combines two sets to form a new one containing items in either.\n",
    "# The intersection operation & gets items Only in both.\n",
    "# The difference operator - gets items in the first set but in the second.\n",
    "# The symmetric difference operator ^ gets items in either set, but not both.\n",
    "# The isdisjoint() - Two sets are said to be disjoint if they have no common elements in their set.\n",
    "# The issubset() - A set A is considered a subset of another set B if every element of A is also an element of B."
   ]
  },
  {
   "cell_type": "code",
   "execution_count": 26,
   "metadata": {},
   "outputs": [
    {
     "name": "stdout",
     "output_type": "stream",
     "text": [
      "{4, 5, 6}\n",
      "{4, 5, 6}\n",
      "{1, 2, 3, 4, 5, 6, 7, 8, 9}\n",
      "{1, 2, 3, 4, 5, 6, 7, 8, 9}\n",
      "{1, 2, 3}\n",
      "{1, 2, 3}\n",
      "False\n",
      "False\n",
      "{1, 2, 3, 7, 8, 9}\n"
     ]
    }
   ],
   "source": [
    "# Example\n",
    "first = {1, 2, 3, 4, 5, 6}\n",
    "second = {4, 5, 6, 7, 8, 9}\n",
    "\n",
    "print(first.intersection(second)) # {4, 5, 6}\n",
    "# OR\n",
    "print(first & second) # {4, 5, 6}\n",
    "\n",
    "print(first | second) # {1, 2, 3, 4, 5, 6, 7, 8, 9}\n",
    "#OR\n",
    "print(first.union(second)) # {1, 2, 3, 4, 5, 6, 7, 8, 9}\n",
    "\n",
    "print(first.difference(second)) # {1, 2, 3}\n",
    "# OR\n",
    "print(first - second) # {1, 2, 3}\n",
    "\n",
    "print(first.isdisjoint(second)) # False\n",
    "\n",
    "print(first.issubset(second)) # False\n",
    "\n",
    "print(first ^ second) # {1, 2, 3, 7, 8, 9}"
   ]
  },
  {
   "cell_type": "code",
   "execution_count": 34,
   "metadata": {},
   "outputs": [
    {
     "name": "stdout",
     "output_type": "stream",
     "text": [
      "2\n"
     ]
    }
   ],
   "source": [
    "# Exercise\n",
    "\n",
    "text = 'this is some text I would like this tea and some cookies'\n",
    "\n",
    "list = text.split()\n",
    "\n",
    "listLength = len(list)\n",
    "\n",
    "my_set = set(list)\n",
    "\n",
    "setLength = len(my_set)\n",
    "\n",
    "result = listLength - setLength\n",
    "\n",
    "print(result)\n"
   ]
  },
  {
   "cell_type": "code",
   "execution_count": 35,
   "metadata": {},
   "outputs": [
    {
     "name": "stdout",
     "output_type": "stream",
     "text": [
      "{3}\n"
     ]
    }
   ],
   "source": [
    "# Exercise\n",
    "a = {1, 2, 3}\n",
    "b = {0, 3, 4, 5}\n",
    "\n",
    "print(a & b)"
   ]
  },
  {
   "cell_type": "code",
   "execution_count": null,
   "metadata": {},
   "outputs": [],
   "source": [
    "# Summary\n",
    "# Data Structure\n",
    "# As we have seen in the previous lessons\n",
    "# Python supports the following collection types: Lists, Dictionaries, Tuples, Sets.\n",
    "\n",
    "# Here are some general guidelines for choosing the correct data structure.\n",
    "# Yse a dictionary, when you need a logical assoiciation between a key:value\n",
    "# Use lists if you have a collection of data that does not need random access.\n",
    "# Try to choose lists when you need a simple, iterable collection that is modified frequently.\n",
    "# Use a set if you need uniqueness for the elements.\n",
    "# Use tuples when your data cannot/should not change.\n",
    "\n",
    "# Note\n",
    "# Many times, a tuple is used in combination with a dictionary, for example\n",
    "# a tuple can represent a key, because it's immutable."
   ]
  },
  {
   "cell_type": "code",
   "execution_count": null,
   "metadata": {},
   "outputs": [],
   "source": [
    "# Exercise\n",
    "# Ticket Office\n",
    "\n",
    "# ticket for adult = 20\n",
    "# ticket for child = 5 under 18 years old\n",
    "\n",
    "# the keys of the dictionary data is the sold ticket numbers\n",
    "# and the values are the customer ages\n",
    "# for example '123-08': 24"
   ]
  },
  {
   "cell_type": "code",
   "execution_count": null,
   "metadata": {},
   "outputs": [],
   "source": []
  }
 ],
 "metadata": {
  "kernelspec": {
   "display_name": "base",
   "language": "python",
   "name": "python3"
  },
  "language_info": {
   "codemirror_mode": {
    "name": "ipython",
    "version": 3
   },
   "file_extension": ".py",
   "mimetype": "text/x-python",
   "name": "python",
   "nbconvert_exporter": "python",
   "pygments_lexer": "ipython3",
   "version": "3.11.5"
  },
  "orig_nbformat": 4
 },
 "nbformat": 4,
 "nbformat_minor": 2
}
