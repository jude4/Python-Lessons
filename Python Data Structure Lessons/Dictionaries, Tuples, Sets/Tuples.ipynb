{
 "cells": [
  {
   "cell_type": "code",
   "execution_count": 1,
   "metadata": {},
   "outputs": [],
   "source": [
    "# Tuples\n",
    "# Tuples are very similar to lists, except that they ae immutable (they cannot be changed).\n",
    "# also, they are created using parenthensis, rather than square brackets."
   ]
  },
  {
   "cell_type": "code",
   "execution_count": 2,
   "metadata": {},
   "outputs": [
    {
     "name": "stdout",
     "output_type": "stream",
     "text": [
      "spam\n"
     ]
    }
   ],
   "source": [
    "# Example\n",
    "words = ('spam', 'eggs', 'sausages')\n",
    "\n",
    "print(words[0])"
   ]
  },
  {
   "cell_type": "code",
   "execution_count": 3,
   "metadata": {},
   "outputs": [
    {
     "name": "stdout",
     "output_type": "stream",
     "text": [
      "red\n",
      "blue\n",
      "not found\n"
     ]
    }
   ],
   "source": [
    "# An advantage of tuples over lists is that they can be used as keys for dictionaries (because they are immutable)\n",
    "# Example\n",
    "dict = {\n",
    "    ('David', 42): \"red\",\n",
    "    (\"Bob\", 24): \"green\",\n",
    "    \"Jude\": \"blue\"\n",
    "}\n",
    "\n",
    "print(dict[('David', 42)])\n",
    "print(dict['Jude'])\n",
    "print(dict.get(('Bobx', 24), 'not found'))"
   ]
  },
  {
   "cell_type": "code",
   "execution_count": 4,
   "metadata": {},
   "outputs": [],
   "source": [
    "# Note: Tuples are faster than list but they can not be changed"
   ]
  },
  {
   "cell_type": "code",
   "execution_count": 5,
   "metadata": {},
   "outputs": [
    {
     "name": "stdout",
     "output_type": "stream",
     "text": [
      "(1, 2, 3)\n"
     ]
    }
   ],
   "source": [
    "# Exercise\n",
    "tuple = (1, (1, 2, 3))\n",
    "\n",
    "print(tuple[1]) # (1, 2, 3)"
   ]
  },
  {
   "cell_type": "code",
   "execution_count": null,
   "metadata": {},
   "outputs": [],
   "source": [
    "# Tuple Unpacking\n",
    "# Tuple unpacking allows you to assign each item in a collection to a variable."
   ]
  },
  {
   "cell_type": "code",
   "execution_count": 8,
   "metadata": {},
   "outputs": [
    {
     "name": "stdout",
     "output_type": "stream",
     "text": [
      "a :  1\n",
      "b :  2\n",
      "c :  3\n",
      "a:  2\n",
      "b:  1\n"
     ]
    }
   ],
   "source": [
    "# Example\n",
    "numbers = (1, 2, 3)\n",
    "\n",
    "a, b, c = numbers\n",
    "print('a : ', a)\n",
    "print('b : ', b)\n",
    "print('c : ', c)\n",
    "\n",
    "a, b = b, a\n",
    "\n",
    "print('a: ', a)\n",
    "print('b: ', b)"
   ]
  },
  {
   "cell_type": "code",
   "execution_count": null,
   "metadata": {},
   "outputs": [],
   "source": [
    "# Note: This can be also used to swap variables by doing a, b = b, a\n",
    "# since b, a on the right hand side forms the tuple (b, a) which is tthen unpacked."
   ]
  },
  {
   "cell_type": "code",
   "execution_count": null,
   "metadata": {},
   "outputs": [],
   "source": [
    "# A variable that is prefaced with an asterisk (*) takes all values\n",
    "# from the collection that are left over from the other varaibles."
   ]
  },
  {
   "cell_type": "code",
   "execution_count": 9,
   "metadata": {},
   "outputs": [
    {
     "name": "stdout",
     "output_type": "stream",
     "text": [
      "1\n",
      "2\n",
      "[3, 4, 5, 6, 7, 8]\n",
      "9\n"
     ]
    }
   ],
   "source": [
    "# Example\n",
    "a, b, *c, d = [1, 2, 3, 4, 5, 6, 7, 8, 9]\n",
    "\n",
    "print('a : ',a)\n",
    "print('b : ',b)\n",
    "print('c : ',c)\n",
    "print('d : ',d)"
   ]
  },
  {
   "cell_type": "code",
   "execution_count": 29,
   "metadata": {},
   "outputs": [
    {
     "name": "stdout",
     "output_type": "stream",
     "text": [
      "(42, 11)\n"
     ]
    }
   ],
   "source": [
    "# Exercise\n",
    "import math\n",
    "\n",
    "points = [\n",
    "    (12, 55),\n",
    "    (880, 123),\n",
    "    (64, 64),\n",
    "    (100, 1024),\n",
    "    (77, 33),\n",
    "    (42, 11),\n",
    "    (0, 90)\n",
    "]\n",
    "\n",
    "dict = {}\n",
    "\n",
    "for x, y in points:\n",
    "    \n",
    "    distance = math.sqrt(x**2 + y**2)\n",
    "\n",
    "    current_point = x, y\n",
    "\n",
    "    dict.update({\n",
    "        distance: current_point\n",
    "    })\n",
    "   \n",
    "print(min(dict))\n",
    "    "
   ]
  },
  {
   "cell_type": "code",
   "execution_count": 30,
   "metadata": {},
   "outputs": [
    {
     "name": "stdout",
     "output_type": "stream",
     "text": [
      "14\n"
     ]
    }
   ],
   "source": [
    "# Exercise\n",
    "\n",
    "a, b, c, d, *e, f, g = range(20)\n",
    "\n",
    "print(len(e)) # e * 14"
   ]
  }
 ],
 "metadata": {
  "kernelspec": {
   "display_name": "base",
   "language": "python",
   "name": "python3"
  },
  "language_info": {
   "codemirror_mode": {
    "name": "ipython",
    "version": 3
   },
   "file_extension": ".py",
   "mimetype": "text/x-python",
   "name": "python",
   "nbconvert_exporter": "python",
   "pygments_lexer": "ipython3",
   "version": "3.11.5"
  },
  "orig_nbformat": 4
 },
 "nbformat": 4,
 "nbformat_minor": 2
}
