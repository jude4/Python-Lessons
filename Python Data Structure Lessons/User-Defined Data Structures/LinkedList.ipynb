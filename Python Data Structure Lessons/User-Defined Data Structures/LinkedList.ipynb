{
 "cells": [
  {
   "cell_type": "code",
   "execution_count": null,
   "metadata": {},
   "outputs": [],
   "source": [
    "# Linked List\n",
    "\n",
    "# A linked list is a sequence of nodes where each node stores its own data and a link to the next node\n",
    "# One node links to another forming what can be thought of as a linked chain:\n",
    "\n",
    "# The first node is called the head, and its used as the starting point for any\n",
    "# iteration through the list. The last node must have its link pointing to None to determine the end of the list.\n",
    "\n",
    "# Unlike a stacks and queues, you insert and remove nodes in any position of the linked list\n",
    "# (similar to standard list).\n",
    "\n",
    "\n",
    "# Applications\n",
    "\n",
    "# Linked lists are useful when your data is linked. For example when you need undo/redo functionality.\n",
    "#  the nodes can represent the state with links to the previous and next states.\n",
    "# Another example would be a playlist of music where each clip is linked with the next one.\n",
    "\n",
    "# Note\n",
    "\n",
    "# Linked list can also be used to create other data structures, such as stack, queues, and graphs."
   ]
  },
  {
   "cell_type": "code",
   "execution_count": 4,
   "metadata": {},
   "outputs": [
    {
     "name": "stdout",
     "output_type": "stream",
     "text": [
      "9 => 5 => 8 => 1 => \n",
      "1\n"
     ]
    }
   ],
   "source": [
    "# Example\n",
    "\n",
    "class Node:\n",
    "    def __init__(self, data, next) -> None:\n",
    "        self.data = data\n",
    "        self.next = next\n",
    "\n",
    "\n",
    "class LinkedList:\n",
    "    def __init__(self) -> None:\n",
    "        self.head = None\n",
    "\n",
    "    def add_at_front(self, data):               # The add_at_front() method adds a new Node as the head\n",
    "        self.head = Node(data, self.head)       # of the list and links the previous head to it.\n",
    "    \n",
    "    def add_at_end(self, data):                 # The add_at_end() method iterates to the end of the list\n",
    "        if not self.head:                       # using a while loop and adds the new node as the link of\n",
    "            self.head = Node(data, None)        # the last node.\n",
    "            return\n",
    "        curr = self.head\n",
    "\n",
    "        while curr.next:\n",
    "            curr = curr.next\n",
    "        curr.next = Node(data, None)\n",
    "\n",
    "    def get_last_node(self):\n",
    "        n = self.head\n",
    "        while(n.next != None):\n",
    "            n = n.next\n",
    "        return n.data\n",
    "    \n",
    "    def print_list(self):\n",
    "        n = self.head\n",
    "        while n != None:\n",
    "            print(n.data, end = \" => \")\n",
    "            n = n.next\n",
    "        print()\n",
    "\n",
    "\n",
    "s = LinkedList()\n",
    "s.add_at_front(5)\n",
    "s.add_at_end(8)\n",
    "s.add_at_front(9)\n",
    "s.add_at_end(1)\n",
    "s.print_list()\n",
    "print(s.get_last_node())\n"
   ]
  },
  {
   "cell_type": "code",
   "execution_count": 7,
   "metadata": {},
   "outputs": [
    {
     "name": "stdout",
     "output_type": "stream",
     "text": [
      "Goodbye my Lover\n",
      "House on fire\n",
      "Unstoppable\n",
      "\n"
     ]
    }
   ],
   "source": [
    "# Exercise\n",
    "\n",
    "class Track:\n",
    "    def __init__(self, title, next) -> None:\n",
    "        self.title = title\n",
    "        self.next = next\n",
    "\n",
    "\n",
    "class Player:\n",
    "    def __init__(self) -> None:\n",
    "        self.head = None\n",
    "\n",
    "    def add(self, title):\n",
    "        if not self.head:\n",
    "            self.head = Track(title, None)\n",
    "            return\n",
    "        curr = self.head\n",
    "        while curr.next:\n",
    "            curr = curr.next\n",
    "        curr.next = Track(title, None)\n",
    "    \n",
    "    def print_list(self):\n",
    "        n = self.head\n",
    "        while n != None:\n",
    "            print(n.title, end = \"\\n\")\n",
    "            n = n.next\n",
    "        print()\n",
    "\n",
    "p = Player()\n",
    "\n",
    "while True:\n",
    "    x = input()\n",
    "    if x == 'end':\n",
    "        break\n",
    "    p.add(x)\n",
    "\n",
    "p.print_list()\n"
   ]
  }
 ],
 "metadata": {
  "kernelspec": {
   "display_name": "base",
   "language": "python",
   "name": "python3"
  },
  "language_info": {
   "codemirror_mode": {
    "name": "ipython",
    "version": 3
   },
   "file_extension": ".py",
   "mimetype": "text/x-python",
   "name": "python",
   "nbconvert_exporter": "python",
   "pygments_lexer": "ipython3",
   "version": "3.11.5"
  },
  "orig_nbformat": 4
 },
 "nbformat": 4,
 "nbformat_minor": 2
}
