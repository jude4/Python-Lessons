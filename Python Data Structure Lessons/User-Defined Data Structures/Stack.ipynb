{
 "cells": [
  {
   "cell_type": "code",
   "execution_count": null,
   "metadata": {},
   "outputs": [],
   "source": [
    "# Stack\n",
    "\n",
    "# A stack is a simple data structure that adds and removes elements in a particular order.\n",
    "# Every time an element is added, it goes on the 'top' of the stack.\n",
    "# Only an element at the top of the stack can be removed, just like a stack of plates.\n",
    "# This behavior is called LIFO (Last in, First out).\n",
    "\n",
    "# Terminology\n",
    "\n",
    "# Adding a new element onto the stack is called push\n",
    "# Removing an element from the stack is called pop\n",
    "\n",
    "# Applications\n",
    "\n",
    "# Stacks can be used to create undo-redo functionalities, paring expressions\n",
    "# (infix to postfix/prefix conversion), and much more.\n",
    "\n",
    "\n",
    "# Note\n",
    "\n",
    "# A stack can be implemented using a list in python."
   ]
  },
  {
   "cell_type": "code",
   "execution_count": null,
   "metadata": {},
   "outputs": [],
   "source": [
    "# Stack in Python\n",
    "\n",
    "# Let's define and implement the stack class with its corresponding push, pop, is_empty\n",
    "# and print_stack methods"
   ]
  },
  {
   "cell_type": "code",
   "execution_count": 2,
   "metadata": {},
   "outputs": [
    {
     "name": "stdout",
     "output_type": "stream",
     "text": [
      "['c', 'b', 'a']\n",
      "['b', 'a']\n"
     ]
    }
   ],
   "source": [
    "# Example\n",
    "class Stack:\n",
    "    def __init__(self) -> None: #constructor in python\n",
    "        self.items = []\n",
    "    \n",
    "    def is_empty(self):\n",
    "        return self.items == []\n",
    "\n",
    "    def push(self, item):\n",
    "        self.items.insert(0, item)\n",
    "    \n",
    "    def pop(self):\n",
    "        return self.items.pop(0)\n",
    "\n",
    "    def print_stack(self):\n",
    "        print(self.items)\n",
    "\n",
    "s = Stack()\n",
    "\n",
    "s.push('a')\n",
    "s.push('b')\n",
    "s.push('c')\n",
    "s.print_stack() # [c, b, a]\n",
    "\n",
    "s.pop()\n",
    "s.print_stack() # [b, a]"
   ]
  },
  {
   "cell_type": "code",
   "execution_count": 4,
   "metadata": {},
   "outputs": [
    {
     "name": "stdout",
     "output_type": "stream",
     "text": [
      "www.sololean.com/courses/python/\n",
      "www.sololearn.com/course\n",
      "www.sololearn.com\n",
      "about:blank\n"
     ]
    }
   ],
   "source": [
    "# Exercise\n",
    "\n",
    "class Browser:\n",
    "    def __init__(self) -> None:\n",
    "        self.links = []\n",
    "    \n",
    "    def is_empty(self):\n",
    "        return self.links == []\n",
    "    \n",
    "    def push(self, link):\n",
    "        self.links.insert(0, link)\n",
    "    \n",
    "    def pop(self):\n",
    "        return self.links.pop(0)\n",
    "    \n",
    "\n",
    "x = Browser()\n",
    "x.push('about:blank')\n",
    "x.push('www.sololearn.com')\n",
    "x.push('www.sololearn.com/course')\n",
    "x.push('www.sololean.com/courses/python/')\n",
    "\n",
    "while not x.is_empty():\n",
    "    print(x.pop())"
   ]
  },
  {
   "cell_type": "code",
   "execution_count": 9,
   "metadata": {},
   "outputs": [],
   "source": [
    "# Import relevant modules\n",
    "# The first code cell imports the necessary modules and sets a few display options\n",
    "\n",
    "import numpy as np\n",
    "import pandas as pd\n",
    "import tensorflow as tf\n",
    "\n",
    "from matplotlib import pyplot as plt\n",
    "\n",
    "pd.options.display.max_rows = 10\n",
    "# pd.options.display.float_format = \"{:.1f}\""
   ]
  },
  {
   "cell_type": "code",
   "execution_count": null,
   "metadata": {},
   "outputs": [],
   "source": []
  },
  {
   "cell_type": "code",
   "execution_count": null,
   "metadata": {},
   "outputs": [],
   "source": []
  },
  {
   "cell_type": "code",
   "execution_count": null,
   "metadata": {},
   "outputs": [],
   "source": []
  },
  {
   "cell_type": "code",
   "execution_count": null,
   "metadata": {},
   "outputs": [],
   "source": []
  }
 ],
 "metadata": {
  "kernelspec": {
   "display_name": "Python 3 (ipykernel)",
   "language": "python",
   "name": "python3"
  },
  "language_info": {
   "codemirror_mode": {
    "name": "ipython",
    "version": 3
   },
   "file_extension": ".py",
   "mimetype": "text/x-python",
   "name": "python",
   "nbconvert_exporter": "python",
   "pygments_lexer": "ipython3",
   "version": "3.11.5"
  }
 },
 "nbformat": 4,
 "nbformat_minor": 2
}
