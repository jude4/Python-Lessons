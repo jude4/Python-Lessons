{
 "cells": [
  {
   "cell_type": "code",
   "execution_count": null,
   "metadata": {},
   "outputs": [],
   "source": [
    "# Queue\n",
    "\n",
    "# A queue is similar to a stack, but defines a different way to add remove elements.\n",
    "# The elements are inserted from one end, called the rear, and deleted from the other end,\n",
    "# called the front.\n",
    "# This behavior is called FIFO (first in first out)\n",
    "\n",
    "# Terminology\n",
    "\n",
    "# The process of adding new elements into the queue is called enqueue.\n",
    "# The process of removal of an element is called dequeue.\n",
    "\n",
    "# Applications\n",
    "\n",
    "# Queues are used whenever we need to manage objects in order starting with first one in.\n",
    "# Scenarios include printing documents on a printer, call center systems answering people on hold, and so on\n",
    "\n",
    "# Note\n",
    "\n",
    "# Python lists are the easiest way to implement a queue functionality."
   ]
  },
  {
   "cell_type": "code",
   "execution_count": 3,
   "metadata": {},
   "outputs": [
    {
     "name": "stdout",
     "output_type": "stream",
     "text": [
      "['42', 'b', 'a']\n",
      "['42', 'b']\n"
     ]
    }
   ],
   "source": [
    "# Queue in Python\n",
    "# Example\n",
    "\n",
    "class Queue:\n",
    "    def __init__(self) -> None:\n",
    "        self.items = []\n",
    "\n",
    "    def is_empty(self):\n",
    "        return self.items == []\n",
    "    \n",
    "    def enqueue(self, item):\n",
    "        self.items.insert(0, item)\n",
    "\n",
    "    def dequeue(self):\n",
    "        return self.items.pop()\n",
    "    \n",
    "    def print_queue(self):\n",
    "        print(self.items)\n",
    "\n",
    "\n",
    "q = Queue()\n",
    "q.enqueue('a')\n",
    "q.enqueue('b')\n",
    "q.enqueue('42')\n",
    "q.print_queue() # [42, b, a]\n",
    "\n",
    "q.dequeue()\n",
    "q.print_queue() # [42, b]"
   ]
  },
  {
   "cell_type": "code",
   "execution_count": null,
   "metadata": {},
   "outputs": [],
   "source": [
    "# Note:\n",
    "# The enqueue method adds an element at the beginning of the list, while the dequeue\n",
    "# method removes the last element"
   ]
  },
  {
   "cell_type": "code",
   "execution_count": 31,
   "metadata": {},
   "outputs": [
    {
     "name": "stdout",
     "output_type": "stream",
     "text": [
      "20\n"
     ]
    }
   ],
   "source": [
    "# Exercise\n",
    "\n",
    "class CallCenter:\n",
    "    def __init__(self) -> None:\n",
    "        self.customers = []\n",
    "    \n",
    "    def is_empty(self):\n",
    "        return self.customers == []\n",
    "    \n",
    "    def print_queue(self):\n",
    "        print(self.customers)\n",
    "    \n",
    "    def add(self, x):\n",
    "        self.customers.insert(0, x)\n",
    "\n",
    "    def next(self):\n",
    "        return self.customers.pop()\n",
    "    \n",
    "    def get(self, item):\n",
    "        return self.customers[item]\n",
    "    \n",
    "    def getAllCustomers(self):\n",
    "        return self.customers\n",
    "    \n",
    "\n",
    "c = CallCenter()\n",
    "\n",
    "while True:\n",
    "    n = input()\n",
    "\n",
    "    if n == 'end':\n",
    "        break\n",
    "    c.add(n)\n",
    "\n",
    "totalTime = 0\n",
    "\n",
    "while not c.is_empty():\n",
    "    topic = c.next()\n",
    "    if topic == 'general':\n",
    "        totalTime += 5\n",
    "    elif topic == 'technical':\n",
    "        totalTime += 10\n",
    "        \n",
    "    \n",
    "\n",
    "\n",
    "print(totalTime)\n",
    "    "
   ]
  },
  {
   "cell_type": "code",
   "execution_count": null,
   "metadata": {},
   "outputs": [],
   "source": []
  },
  {
   "cell_type": "code",
   "execution_count": null,
   "metadata": {},
   "outputs": [],
   "source": []
  }
 ],
 "metadata": {
  "kernelspec": {
   "display_name": "base",
   "language": "python",
   "name": "python3"
  },
  "language_info": {
   "codemirror_mode": {
    "name": "ipython",
    "version": 3
   },
   "file_extension": ".py",
   "mimetype": "text/x-python",
   "name": "python",
   "nbconvert_exporter": "python",
   "pygments_lexer": "ipython3",
   "version": "3.11.5"
  },
  "orig_nbformat": 4
 },
 "nbformat": 4,
 "nbformat_minor": 2
}
