{
 "cells": [
  {
   "cell_type": "code",
   "execution_count": null,
   "metadata": {},
   "outputs": [],
   "source": [
    "# Stack\n",
    "\n",
    "# A stack is a simple data structure that adds and removes elements in a particular order.\n",
    "# Every time an element is added, it goes on the 'top' of the stack.\n",
    "# Only an element at the top of the stack can be removed, just like a stack of plates.\n",
    "# This behavior is called LIFO (Last in, First out).\n",
    "\n",
    "# Terminology\n",
    "\n",
    "# Adding a new element onto the stack is called push\n",
    "# Removing an element from the stack is called pop\n",
    "\n",
    "# Applications\n",
    "\n",
    "# Stacks can be used to create undo-redo functionalities, paring expressions\n",
    "# (infix to postfix/prefix conversion), and much more.\n",
    "\n",
    "\n",
    "# Note\n",
    "\n",
    "# A stack can be implemented using a list in python."
   ]
  },
  {
   "cell_type": "code",
   "execution_count": null,
   "metadata": {},
   "outputs": [],
   "source": [
    "# Stack in Python\n",
    "\n",
    "# Let's define and implement the stack class with its corresponding push, pop, is_empty\n",
    "# and print_stack methods"
   ]
  },
  {
   "cell_type": "code",
   "execution_count": 2,
   "metadata": {},
   "outputs": [
    {
     "name": "stdout",
     "output_type": "stream",
     "text": [
      "['c', 'b', 'a']\n",
      "['b', 'a']\n"
     ]
    }
   ],
   "source": [
    "# Example\n",
    "class Stack:\n",
    "    def __init__(self) -> None: #constructor in python\n",
    "        self.items = []\n",
    "    \n",
    "    def is_empty(self):\n",
    "        return self.items == []\n",
    "\n",
    "    def push(self, item):\n",
    "        self.items.insert(0, item)\n",
    "    \n",
    "    def pop(self):\n",
    "        return self.items.pop(0)\n",
    "\n",
    "    def print_stack(self):\n",
    "        print(self.items)\n",
    "\n",
    "s = Stack()\n",
    "\n",
    "s.push('a')\n",
    "s.push('b')\n",
    "s.push('c')\n",
    "s.print_stack() # [c, b, a]\n",
    "\n",
    "s.pop()\n",
    "s.print_stack() # [b, a]"
   ]
  },
  {
   "cell_type": "code",
   "execution_count": 4,
   "metadata": {},
   "outputs": [
    {
     "name": "stdout",
     "output_type": "stream",
     "text": [
      "www.sololean.com/courses/python/\n",
      "www.sololearn.com/course\n",
      "www.sololearn.com\n",
      "about:blank\n"
     ]
    }
   ],
   "source": [
    "# Exercise\n",
    "\n",
    "class Browser:\n",
    "    def __init__(self) -> None:\n",
    "        self.links = []\n",
    "    \n",
    "    def is_empty(self):\n",
    "        return self.links == []\n",
    "    \n",
    "    def push(self, link):\n",
    "        self.links.insert(0, link)\n",
    "    \n",
    "    def pop(self):\n",
    "        return self.links.pop(0)\n",
    "    \n",
    "\n",
    "x = Browser()\n",
    "x.push('about:blank')\n",
    "x.push('www.sololearn.com')\n",
    "x.push('www.sololearn.com/course')\n",
    "x.push('www.sololean.com/courses/python/')\n",
    "\n",
    "while not x.is_empty():\n",
    "    print(x.pop())"
   ]
  },
  {
   "cell_type": "code",
   "execution_count": 1,
   "metadata": {},
   "outputs": [
    {
     "name": "stdout",
     "output_type": "stream",
     "text": [
      "WARNING:tensorflow:From C:\\Users\\judeu\\anaconda3\\Lib\\site-packages\\keras\\src\\losses.py:2976: The name tf.losses.sparse_softmax_cross_entropy is deprecated. Please use tf.compat.v1.losses.sparse_softmax_cross_entropy instead.\n",
      "\n"
     ]
    },
    {
     "name": "stderr",
     "output_type": "stream",
     "text": [
      "Matplotlib is building the font cache; this may take a moment.\n"
     ]
    },
    {
     "ename": "ValueError",
     "evalue": "Value must be a callable",
     "output_type": "error",
     "traceback": [
      "\u001b[1;31m---------------------------------------------------------------------------\u001b[0m",
      "\u001b[1;31mValueError\u001b[0m                                Traceback (most recent call last)",
      "Cell \u001b[1;32mIn[1], line 10\u001b[0m\n\u001b[0;32m      7\u001b[0m \u001b[38;5;28;01mfrom\u001b[39;00m \u001b[38;5;21;01mmatplotlib\u001b[39;00m \u001b[38;5;28;01mimport\u001b[39;00m pyplot \u001b[38;5;28;01mas\u001b[39;00m plt\n\u001b[0;32m      9\u001b[0m pd\u001b[38;5;241m.\u001b[39moptions\u001b[38;5;241m.\u001b[39mdisplay\u001b[38;5;241m.\u001b[39mmax_rows \u001b[38;5;241m=\u001b[39m \u001b[38;5;241m10\u001b[39m\n\u001b[1;32m---> 10\u001b[0m pd\u001b[38;5;241m.\u001b[39moptions\u001b[38;5;241m.\u001b[39mdisplay\u001b[38;5;241m.\u001b[39mfloat_format \u001b[38;5;241m=\u001b[39m \u001b[38;5;124m\"\u001b[39m\u001b[38;5;132;01m{:.1f}\u001b[39;00m\u001b[38;5;124m\"\u001b[39m\n",
      "File \u001b[1;32m~\\anaconda3\\Lib\\site-packages\\pandas\\_config\\config.py:224\u001b[0m, in \u001b[0;36mDictWrapper.__setattr__\u001b[1;34m(self, key, val)\u001b[0m\n\u001b[0;32m    221\u001b[0m \u001b[38;5;66;03m# you can't set new keys\u001b[39;00m\n\u001b[0;32m    222\u001b[0m \u001b[38;5;66;03m# can you can't overwrite subtrees\u001b[39;00m\n\u001b[0;32m    223\u001b[0m \u001b[38;5;28;01mif\u001b[39;00m key \u001b[38;5;129;01min\u001b[39;00m \u001b[38;5;28mself\u001b[39m\u001b[38;5;241m.\u001b[39md \u001b[38;5;129;01mand\u001b[39;00m \u001b[38;5;129;01mnot\u001b[39;00m \u001b[38;5;28misinstance\u001b[39m(\u001b[38;5;28mself\u001b[39m\u001b[38;5;241m.\u001b[39md[key], \u001b[38;5;28mdict\u001b[39m):\n\u001b[1;32m--> 224\u001b[0m     _set_option(prefix, val)\n\u001b[0;32m    225\u001b[0m \u001b[38;5;28;01melse\u001b[39;00m:\n\u001b[0;32m    226\u001b[0m     \u001b[38;5;28;01mraise\u001b[39;00m OptionError(\u001b[38;5;124m\"\u001b[39m\u001b[38;5;124mYou can only set the value of existing options\u001b[39m\u001b[38;5;124m\"\u001b[39m)\n",
      "File \u001b[1;32m~\\anaconda3\\Lib\\site-packages\\pandas\\_config\\config.py:160\u001b[0m, in \u001b[0;36m_set_option\u001b[1;34m(*args, **kwargs)\u001b[0m\n\u001b[0;32m    158\u001b[0m o \u001b[38;5;241m=\u001b[39m _get_registered_option(key)\n\u001b[0;32m    159\u001b[0m \u001b[38;5;28;01mif\u001b[39;00m o \u001b[38;5;129;01mand\u001b[39;00m o\u001b[38;5;241m.\u001b[39mvalidator:\n\u001b[1;32m--> 160\u001b[0m     o\u001b[38;5;241m.\u001b[39mvalidator(v)\n\u001b[0;32m    162\u001b[0m \u001b[38;5;66;03m# walk the nested dict\u001b[39;00m\n\u001b[0;32m    163\u001b[0m root, k \u001b[38;5;241m=\u001b[39m _get_root(key)\n",
      "File \u001b[1;32m~\\anaconda3\\Lib\\site-packages\\pandas\\_config\\config.py:849\u001b[0m, in \u001b[0;36mis_one_of_factory.<locals>.inner\u001b[1;34m(x)\u001b[0m\n\u001b[0;32m    847\u001b[0m \u001b[38;5;28;01mdef\u001b[39;00m \u001b[38;5;21minner\u001b[39m(x) \u001b[38;5;241m-\u001b[39m\u001b[38;5;241m>\u001b[39m \u001b[38;5;28;01mNone\u001b[39;00m:\n\u001b[0;32m    848\u001b[0m     \u001b[38;5;28;01mif\u001b[39;00m x \u001b[38;5;129;01mnot\u001b[39;00m \u001b[38;5;129;01min\u001b[39;00m legal_values:\n\u001b[1;32m--> 849\u001b[0m         \u001b[38;5;28;01mif\u001b[39;00m \u001b[38;5;129;01mnot\u001b[39;00m \u001b[38;5;28many\u001b[39m(c(x) \u001b[38;5;28;01mfor\u001b[39;00m c \u001b[38;5;129;01min\u001b[39;00m callables):\n\u001b[0;32m    850\u001b[0m             uvals \u001b[38;5;241m=\u001b[39m [\u001b[38;5;28mstr\u001b[39m(lval) \u001b[38;5;28;01mfor\u001b[39;00m lval \u001b[38;5;129;01min\u001b[39;00m legal_values]\n\u001b[0;32m    851\u001b[0m             pp_values \u001b[38;5;241m=\u001b[39m \u001b[38;5;124m\"\u001b[39m\u001b[38;5;124m|\u001b[39m\u001b[38;5;124m\"\u001b[39m\u001b[38;5;241m.\u001b[39mjoin(uvals)\n",
      "File \u001b[1;32m~\\anaconda3\\Lib\\site-packages\\pandas\\_config\\config.py:849\u001b[0m, in \u001b[0;36m<genexpr>\u001b[1;34m(.0)\u001b[0m\n\u001b[0;32m    847\u001b[0m \u001b[38;5;28;01mdef\u001b[39;00m \u001b[38;5;21minner\u001b[39m(x) \u001b[38;5;241m-\u001b[39m\u001b[38;5;241m>\u001b[39m \u001b[38;5;28;01mNone\u001b[39;00m:\n\u001b[0;32m    848\u001b[0m     \u001b[38;5;28;01mif\u001b[39;00m x \u001b[38;5;129;01mnot\u001b[39;00m \u001b[38;5;129;01min\u001b[39;00m legal_values:\n\u001b[1;32m--> 849\u001b[0m         \u001b[38;5;28;01mif\u001b[39;00m \u001b[38;5;129;01mnot\u001b[39;00m \u001b[38;5;28many\u001b[39m(c(x) \u001b[38;5;28;01mfor\u001b[39;00m c \u001b[38;5;129;01min\u001b[39;00m callables):\n\u001b[0;32m    850\u001b[0m             uvals \u001b[38;5;241m=\u001b[39m [\u001b[38;5;28mstr\u001b[39m(lval) \u001b[38;5;28;01mfor\u001b[39;00m lval \u001b[38;5;129;01min\u001b[39;00m legal_values]\n\u001b[0;32m    851\u001b[0m             pp_values \u001b[38;5;241m=\u001b[39m \u001b[38;5;124m\"\u001b[39m\u001b[38;5;124m|\u001b[39m\u001b[38;5;124m\"\u001b[39m\u001b[38;5;241m.\u001b[39mjoin(uvals)\n",
      "File \u001b[1;32m~\\anaconda3\\Lib\\site-packages\\pandas\\_config\\config.py:908\u001b[0m, in \u001b[0;36mis_callable\u001b[1;34m(obj)\u001b[0m\n\u001b[0;32m    895\u001b[0m \u001b[38;5;250m\u001b[39m\u001b[38;5;124;03m\"\"\"\u001b[39;00m\n\u001b[0;32m    896\u001b[0m \n\u001b[0;32m    897\u001b[0m \u001b[38;5;124;03mParameters\u001b[39;00m\n\u001b[1;32m   (...)\u001b[0m\n\u001b[0;32m    905\u001b[0m \n\u001b[0;32m    906\u001b[0m \u001b[38;5;124;03m\"\"\"\u001b[39;00m\n\u001b[0;32m    907\u001b[0m \u001b[38;5;28;01mif\u001b[39;00m \u001b[38;5;129;01mnot\u001b[39;00m \u001b[38;5;28mcallable\u001b[39m(obj):\n\u001b[1;32m--> 908\u001b[0m     \u001b[38;5;28;01mraise\u001b[39;00m \u001b[38;5;167;01mValueError\u001b[39;00m(\u001b[38;5;124m\"\u001b[39m\u001b[38;5;124mValue must be a callable\u001b[39m\u001b[38;5;124m\"\u001b[39m)\n\u001b[0;32m    909\u001b[0m \u001b[38;5;28;01mreturn\u001b[39;00m \u001b[38;5;28;01mTrue\u001b[39;00m\n",
      "\u001b[1;31mValueError\u001b[0m: Value must be a callable"
     ]
    }
   ],
   "source": [
    "# Import relevant modules\n",
    "# The first code cell imports the necessary modules and sets a few display options\n",
    "\n",
    "import numpy as np\n",
    "import pandas as pd\n",
    "import tensorflow as tf\n",
    "from matplotlib import pyplot as plt\n",
    "\n",
    "pd.options.display.max_rows = 10\n",
    "pd.options.display.float_format = \"{:.1f}\""
   ]
  },
  {
   "cell_type": "code",
   "execution_count": null,
   "metadata": {},
   "outputs": [],
   "source": []
  },
  {
   "cell_type": "code",
   "execution_count": null,
   "metadata": {},
   "outputs": [],
   "source": []
  },
  {
   "cell_type": "code",
   "execution_count": null,
   "metadata": {},
   "outputs": [],
   "source": []
  }
 ],
 "metadata": {
  "kernelspec": {
   "display_name": "Python 3 (ipykernel)",
   "language": "python",
   "name": "python3"
  },
  "language_info": {
   "codemirror_mode": {
    "name": "ipython",
    "version": 3
   },
   "file_extension": ".py",
   "mimetype": "text/x-python",
   "name": "python",
   "nbconvert_exporter": "python",
   "pygments_lexer": "ipython3",
   "version": "3.11.5"
  }
 },
 "nbformat": 4,
 "nbformat_minor": 2
}
