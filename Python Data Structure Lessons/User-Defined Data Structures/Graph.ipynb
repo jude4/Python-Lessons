{
 "cells": [
  {
   "cell_type": "code",
   "execution_count": null,
   "metadata": {},
   "outputs": [],
   "source": [
    "# Graph\n",
    "\n",
    "# Graphs are used to represent many real-life applications like networks, transportation path of a city,\n",
    "# and social network connections.\n",
    "\n",
    "# A graph is set of connected nodes where each node is called a Vertex and the connection between two of\n",
    "# them is called an Edge\n",
    "\n",
    "# Note\n",
    "\n",
    "# For example each vertex represents a person and the Edges represent connections.\n"
   ]
  },
  {
   "cell_type": "code",
   "execution_count": null,
   "metadata": {},
   "outputs": [],
   "source": [
    "# Graph in Python\n",
    "\n",
    "# A graph can be represented using a square matrix where each element represents the edges:\n",
    "# 0 indicates no edges, while 1 indicates an edge. The rows and columns represent the vertices.\n",
    "\n",
    "# Example\n",
    "# 0 1 1\n",
    "# 1 0 0\n",
    "# 1 0 0\n",
    "\n",
    "# The matrix above represents a graph whith 3 vertices (that's hy its a 3x3 matrix).\n",
    "# The 1 s represent the edges. There ae 2 edges: the 1st vertix is connected with 2nd and 3rd.\n",
    "# There are four 1 s in the matrix, because if A is connected with B, then B is connected to A.\n",
    "\n",
    "# This type of matrix is called an adjacency matrix, because it shows if the corresponding\n",
    "# vertices are adjacent or not"
   ]
  },
  {
   "cell_type": "code",
   "execution_count": 1,
   "metadata": {},
   "outputs": [
    {
     "name": "stdout",
     "output_type": "stream",
     "text": [
      "\n",
      "   0   0   1   0\n",
      "   0   0   0   1\n",
      "   1   0   0   1\n",
      "   0   1   1   0"
     ]
    }
   ],
   "source": [
    "# Graph in Python\n",
    "\n",
    "# Example\n",
    "\n",
    "class Graph():\n",
    "    def __init__(self, size) -> None:\n",
    "        self.adj = [ [0] * size for i in range(size) ]\n",
    "        self.size = size\n",
    "\n",
    "    def add_edge(self, orig, dest):\n",
    "        if orig > self.size or dest > self.size or orig < 0 or dest < 0:\n",
    "            print(\"Invalid Edge\")\n",
    "        else:\n",
    "            self.adj[orig - 1][dest - 1] = 1\n",
    "            self.adj[dest - 1][orig - 1] = 1\n",
    "\n",
    "    def remove_edge(self, orig, dest):\n",
    "        if orig > self.size or dest > self.size or orig < 0 or dest < 0 :\n",
    "            print(\"Invalid Edge\")\n",
    "        else:\n",
    "            self.adj[orig - 1][dest - 1] = 0\n",
    "            self.adj[dest - 1][orig - 1] = 0\n",
    "\n",
    "    def display(self):\n",
    "        for row in self.adj:\n",
    "            print()\n",
    "            for val in row:\n",
    "                print('{:4}'.format(val), end = \"\")\n",
    "\n",
    "G = Graph(4)\n",
    "G.add_edge(1, 3)\n",
    "G.add_edge(3, 4)\n",
    "G.add_edge(2, 4)\n",
    "G.display()\n"
   ]
  },
  {
   "cell_type": "code",
   "execution_count": null,
   "metadata": {},
   "outputs": [],
   "source": [
    "# Code Explain\n",
    "\n",
    "# We store the matrix in a two-dimensional list, called adj\n",
    "# The init method creates the adj matrix with the given size (number of vertices) \n",
    "# and initializes all values to zeros\n",
    "# The add_edges() method is used to add an edge by setting the corresponding values to 1\n",
    "# Similarly, the remove_edge() method sets the value to 0.\n",
    "\n",
    "\n"
   ]
  },
  {
   "cell_type": "code",
   "execution_count": 3,
   "metadata": {},
   "outputs": [
    {
     "name": "stdout",
     "output_type": "stream",
     "text": [
      "User 2 has 2 connections.\n"
     ]
    }
   ],
   "source": [
    "# Exercise\n",
    "class X():\n",
    "    def __init__(self, size) -> None:\n",
    "        self.adj = [ [0] * size for i in range(size)]\n",
    "        self.size = size\n",
    "    \n",
    "    def add_friend(self, x, y):\n",
    "        if x > self.size or y > self.size or x < 0 or y < 0:\n",
    "            print('Error')\n",
    "        else:\n",
    "            self.adj[x-1][y-1] = 1\n",
    "            self.adj[y-1][x-1] = 1\n",
    "    def remove_friend(self, x, y):\n",
    "        if x > self.size or y > self.size or x < 0 or y < 0:\n",
    "            print('Error')\n",
    "        else:\n",
    "            self.adj[x-1][y-1] = 0\n",
    "            self.adj[y-1][x-1] = 0\n",
    "    def display(self, n):\n",
    "        if 1 <= n <= self.size:\n",
    "            connections = sum(x.adj[n -1])\n",
    "            print(f\"User {n} has {connections} connections.\")\n",
    "\n",
    "        else:\n",
    "            print(\"Invalid user number.\")\n",
    "\n",
    "\n",
    "x = X(5)\n",
    "\n",
    "x.add_friend(1, 3)\n",
    "x.add_friend(1, 5)\n",
    "x.add_friend(2, 5)\n",
    "x.add_friend(2, 4)\n",
    "x.add_friend(4, 5)\n",
    "\n",
    "n = int(input())\n",
    "\n",
    "x.display(n)\n",
    "\n"
   ]
  }
 ],
 "metadata": {
  "kernelspec": {
   "display_name": "base",
   "language": "python",
   "name": "python3"
  },
  "language_info": {
   "codemirror_mode": {
    "name": "ipython",
    "version": 3
   },
   "file_extension": ".py",
   "mimetype": "text/x-python",
   "name": "python",
   "nbconvert_exporter": "python",
   "pygments_lexer": "ipython3",
   "version": "3.11.5"
  },
  "orig_nbformat": 4
 },
 "nbformat": 4,
 "nbformat_minor": 2
}
